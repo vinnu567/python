{
 "cells": [
  {
   "cell_type": "markdown",
   "metadata": {},
   "source": [
    "## example 1"
   ]
  },
  {
   "cell_type": "code",
   "execution_count": 2,
   "metadata": {},
   "outputs": [
    {
     "name": "stdout",
     "output_type": "stream",
     "text": [
      "90\n"
     ]
    }
   ],
   "source": [
    "def printeven(n):\n",
    "    cnt=0\n",
    "    sum=0\n",
    "    while(cnt!=n):\n",
    "        if(cnt%2==0):\n",
    "            sum=sum+cnt\n",
    "        cnt=cnt+1\n",
    "    return sum\n",
    "print(printeven(20))        "
   ]
  },
  {
   "cell_type": "markdown",
   "metadata": {},
   "source": [
    "## example 2\n",
    "#### factors list of a given number"
   ]
  },
  {
   "cell_type": "code",
   "execution_count": 3,
   "metadata": {},
   "outputs": [
    {
     "name": "stdout",
     "output_type": "stream",
     "text": [
      "1 2 3 4 6 "
     ]
    }
   ],
   "source": [
    "def factorslist(n):\n",
    "    i=1\n",
    "    while(i!=n):\n",
    "        if(n%i==0):\n",
    "            print(i,end=\" \")\n",
    "        i=i+1\n",
    "    return\n",
    "factorslist(12)"
   ]
  },
  {
   "cell_type": "markdown",
   "metadata": {},
   "source": [
    "## list in python\n",
    "#### list can be written in python with square brackets and each item in the list separeted by comma operator\n",
    "\n",
    "#### list can be anything--int,char,float and string"
   ]
  },
  {
   "cell_type": "markdown",
   "metadata": {},
   "source": [
    "## example of list\n",
    "##### list1[1,2,3,4]\n",
    "#### list2[\"a\",\"b\",\"c\"]"
   ]
  },
  {
   "cell_type": "markdown",
   "metadata": {},
   "source": [
    "### for loop\n",
    "### syntax \n",
    "          for<variablename> in <seq>:\n",
    "                <statements>"
   ]
  },
  {
   "cell_type": "markdown",
   "metadata": {},
   "source": [
    "## example 1"
   ]
  },
  {
   "cell_type": "code",
   "execution_count": 7,
   "metadata": {},
   "outputs": [
    {
     "name": "stdout",
     "output_type": "stream",
     "text": [
      "[1, 2, 3, 4, 5]\n",
      "1\n"
     ]
    }
   ],
   "source": [
    "list1=[1,2,3,4,5]\n",
    "#Entire List\n",
    "print(list1)\n",
    "#list(0)\n",
    "print(list1[0])"
   ]
  },
  {
   "cell_type": "code",
   "execution_count": 8,
   "metadata": {},
   "outputs": [
    {
     "name": "stdout",
     "output_type": "stream",
     "text": [
      "['akhil', 'arvind', 'neeha', 'akash']\n",
      "arvind\n"
     ]
    }
   ],
   "source": [
    "list2=[\"akhil\",\"arvind\",\"neeha\",\"akash\"]\n",
    "print(list2)\n",
    "print(list2[1])"
   ]
  },
  {
   "cell_type": "markdown",
   "metadata": {},
   "source": [
    "## example 2"
   ]
  },
  {
   "cell_type": "code",
   "execution_count": 13,
   "metadata": {},
   "outputs": [
    {
     "name": "stdout",
     "output_type": "stream",
     "text": [
      "1 2 3 4 5 6 7 \n",
      "5\n",
      "[4, 5, 6, 7]\n",
      "[1, 2, 3]\n",
      "[1, 2, 3]\n",
      "[1, 2, 3, 4, 5, 6, 7]\n"
     ]
    }
   ],
   "source": [
    "list1=[1,2,3,4,5,6,7]\n",
    "for x in list1:\n",
    "    print(x,end=\" \")\n",
    "print()\n",
    "print(list1[4])\n",
    "print(list1[3:7])\n",
    "print(list1[0:3])\n",
    "print(list1[:3])\n",
    "print(list1[:7])"
   ]
  },
  {
   "cell_type": "code",
   "execution_count": 19,
   "metadata": {},
   "outputs": [
    {
     "name": "stdout",
     "output_type": "stream",
     "text": [
      "1 2 3 4 5 6 7 8 9 10 \n",
      "[2, 3, 4, 5, 6, 7, 8, 9]\n",
      "[3, 4, 5, 6, 7, 8]\n",
      "[2, 3, 4, 5, 6, 7]\n",
      "[1, 5, 9]\n",
      "[10, 7, 4, 1]\n"
     ]
    }
   ],
   "source": [
    "list1=[1,2,3,4,5,6,7,8,9,10]\n",
    "for x in list1:\n",
    "    print(x,end=\" \")\n",
    "print()    \n",
    "    \n",
    "print(list1[1:-1]) \n",
    "print(list1[2:-2])\n",
    "print(list1[1:-3])\n",
    "print(list1[::4])\n",
    "print(list1[::-3])"
   ]
  },
  {
   "cell_type": "code",
   "execution_count": 20,
   "metadata": {},
   "outputs": [
    {
     "name": "stdout",
     "output_type": "stream",
     "text": [
      "['anil', 'adarsh', 'akhil', 1]\n",
      "['anil', 'adarsh', 15, 1]\n",
      "['anil', 'adarsh', 15]\n",
      "['anil', 'gitam', 15]\n",
      "[1, 2, 3]\n",
      "['anil', 'gitam', 15, 1, 2, 3]\n"
     ]
    }
   ],
   "source": [
    "list1=[\"anil\",\"adarsh\",\"akhil\",1]\n",
    "print(list1)\n",
    "list1[2]=15\n",
    "print(list1)\n",
    "del list1[3]\n",
    "print(list1)\n",
    "list1[1]=\"gitam\"\n",
    "print(list1)\n",
    "list2=[1,2,3]\n",
    "print(list2)\n",
    "print(list1+list2)"
   ]
  },
  {
   "cell_type": "markdown",
   "metadata": {},
   "source": [
    "## list method\n",
    "#### append(obj)\n",
    "the method appends a passed object into the existing list"
   ]
  },
  {
   "cell_type": "markdown",
   "metadata": {},
   "source": [
    "#### count(obj)\n",
    "the method returns the count of obj how many times in the list"
   ]
  },
  {
   "cell_type": "code",
   "execution_count": 23,
   "metadata": {},
   "outputs": [
    {
     "name": "stdout",
     "output_type": "stream",
     "text": [
      "[0, 1, 2]\n",
      "[0, 1, 2, [0.1, 0.2, 0.3]]\n",
      "[0, 1, 2, [0.1, 15, 0.3]]\n"
     ]
    }
   ],
   "source": [
    "list=[0,1,2]\n",
    "print(list)\n",
    "list.append([])\n",
    "list[3]=([0.1,0.2,0.3])\n",
    "print(list)\n",
    "list[3][1]=15\n",
    "print(list)\n"
   ]
  },
  {
   "cell_type": "markdown",
   "metadata": {},
   "source": [
    "## index(obj)\n",
    "it returns the index of passes object first occurence from the left side"
   ]
  },
  {
   "cell_type": "code",
   "execution_count": 29,
   "metadata": {},
   "outputs": [
    {
     "name": "stdout",
     "output_type": "stream",
     "text": [
      "['gitam', 'python', 'raptor', 1, 5, 'python', 'python']\n",
      "7\n",
      "['gitam', 'python', 2019, 'raptor', 1, 5, 'python', 'python']\n",
      "8\n",
      "['gitam', 'python', 2019, 'raptor', 2020, 1, 5, 'python', 'python']\n",
      "['gitam', 2019, 'raptor', 2020, 1, 5, 'python', 'python']\n",
      "['gitam', 2019, 'raptor', 2020, 1, 5, 'python']\n",
      "['python', 5, 1, 2020, 'raptor', 2019, 'gitam']\n"
     ]
    }
   ],
   "source": [
    "list1=[\"gitam\",\"python\",\"raptor\",1,5,\"python\",\"python\"]\n",
    "\n",
    "print(list1)\n",
    "list1.index(\"python\")\n",
    "list1.index(1)\n",
    "print(len(list1))\n",
    "list1.insert(2,2019)\n",
    "print(list1)\n",
    "print(len(list1))\n",
    "list1.insert(4,2020)\n",
    "print(list1)\n",
    "list1.remove(\"python\")\n",
    "print(list1)\n",
    "list1.remove(\"python\")\n",
    "print(list1)\n",
    "list1.reverse()\n",
    "print(list1)"
   ]
  },
  {
   "cell_type": "markdown",
   "metadata": {},
   "source": [
    "## remove(obj)\n",
    "the remove method removes the passed object from the first occurance  from left direction"
   ]
  },
  {
   "cell_type": "markdown",
   "metadata": {},
   "source": [
    "## insert(index,obj)\n",
    "it inserts the passed object at certain index"
   ]
  },
  {
   "cell_type": "markdown",
   "metadata": {},
   "source": [
    "## reverse()\n",
    "this method reverse the object of the list"
   ]
  },
  {
   "cell_type": "markdown",
   "metadata": {},
   "source": [
    "###  list with range()function\n",
    "    range(number):\n",
    "    0 to number"
   ]
  },
  {
   "cell_type": "markdown",
   "metadata": {},
   "source": [
    "## data structures\n",
    "### searching the data\n",
    "   ##### linear search\n",
    "   ##### binary search \n",
    "### sort the data\n",
    "### store the data"
   ]
  },
  {
   "cell_type": "markdown",
   "metadata": {},
   "source": [
    "## linear search\n",
    "this can be applied on sorted list /unsorted list\n",
    "this can be applied on unique list/duplicate list"
   ]
  },
  {
   "cell_type": "code",
   "execution_count": 32,
   "metadata": {},
   "outputs": [
    {
     "name": "stdout",
     "output_type": "stream",
     "text": [
      "target item is found\n"
     ]
    }
   ],
   "source": [
    "def linearsearch(a,taritem):\n",
    "    flag=0\n",
    "    for i in range(len(a)):\n",
    "        if a[i]==taritem:\n",
    "            flag=1\n",
    "            break\n",
    "    if(flag!=0):\n",
    "        print(\"target item is found\")\n",
    "    else:\n",
    "        print(\"target item is not found\")\n",
    "a=[16,2,12,6,9,7,1] \n",
    "linearsearch(a,16)\n",
    "        \n"
   ]
  },
  {
   "cell_type": "code",
   "execution_count": 37,
   "metadata": {},
   "outputs": [
    {
     "name": "stdout",
     "output_type": "stream",
     "text": [
      "2\n"
     ]
    }
   ],
   "source": [
    "def linearsearchduplicate(a,taritem):\n",
    "    flag=0\n",
    "    for i in range(len(a)):\n",
    "        if a[i]==taritem:\n",
    "            flag=flag+1\n",
    "            \n",
    "    print(flag)\n",
    "a=[9,1,6,1,5,9,15,16] \n",
    "linearsearchduplicate(a,9)\n",
    "        \n"
   ]
  },
  {
   "cell_type": "code",
   "execution_count": 2,
   "metadata": {},
   "outputs": [
    {
     "name": "stdout",
     "output_type": "stream",
     "text": [
      "1 4 7 "
     ]
    }
   ],
   "source": [
    "def linearexample1(a,taritem):\n",
    "    for i in range(len(a)):\n",
    "        if a[i]==taritem:\n",
    "            print(i,end=\" \")\n",
    "a=[1,5,9,6,5,15,12,5]\n",
    "linearexample1(a,5)"
   ]
  },
  {
   "cell_type": "code",
   "execution_count": 3,
   "metadata": {},
   "outputs": [
    {
     "name": "stdout",
     "output_type": "stream",
     "text": [
      "!! !!!!! !!!!!!!! "
     ]
    }
   ],
   "source": [
    "def linearexample2(a,taritem):\n",
    "    for i in range(len(a)):\n",
    "        if a[i]==taritem:\n",
    "            print(\"!\"*(i+1),end=\" \")\n",
    "linearexample2(a,5)            \n",
    "\n",
    "\n",
    "\n"
   ]
  },
  {
   "cell_type": "code",
   "execution_count": 8,
   "metadata": {},
   "outputs": [
    {
     "name": "stdout",
     "output_type": "stream",
     "text": [
      "60\n"
     ]
    }
   ],
   "source": [
    "def multiple(a):\n",
    "    sum=0\n",
    "    for i in range(len(a)):\n",
    "        if(a[i]%3==0 and a[i]%5==0):\n",
    "            sum=sum+a[i]\n",
    "    print(sum)\n",
    "a=[15,12,2,9,45,18,36]\n",
    "multiple(a)\n",
    "            "
   ]
  },
  {
   "cell_type": "code",
   "execution_count": 14,
   "metadata": {},
   "outputs": [
    {
     "name": "stdout",
     "output_type": "stream",
     "text": [
      "1\n",
      "3\n",
      "8\n",
      "15\n",
      "5\n"
     ]
    }
   ],
   "source": [
    "def linearformattedoutput(a):\n",
    "    for i in range(len(a)):\n",
    "        if(i==0 or i==len(a)-1):\n",
    "            print(a[i])\n",
    "        else:\n",
    "            print(a[i-1]*a[i+1])\n",
    "a=[1,2,3,4,5]\n",
    "linearformattedoutput(a)\n",
    "    "
   ]
  },
  {
   "cell_type": "code",
   "execution_count": 16,
   "metadata": {},
   "outputs": [
    {
     "name": "stdout",
     "output_type": "stream",
     "text": [
      "1\n",
      "9\n",
      "19\n",
      "22\n"
     ]
    }
   ],
   "source": [
    "def linearformatted(a):\n",
    "    for i in range(len(a)):\n",
    "        if(i==0 or i==len(a)-1):\n",
    "            print(a[i])\n",
    "        elif(a[i-1]%2==0 and a[i+1]%2==0):\n",
    "            print(a[i])\n",
    "a=[1,6,9,4,16,19,22]\n",
    "linearformatted(a)\n",
    "            "
   ]
  },
  {
   "cell_type": "code",
   "execution_count": 17,
   "metadata": {},
   "outputs": [
    {
     "name": "stdout",
     "output_type": "stream",
     "text": [
      "enter a number14569\n",
      "[1, 4, 5, 6, 9]\n"
     ]
    }
   ],
   "source": [
    "def list(a):\n",
    "    list=[]\n",
    "    while(a!=0):\n",
    "        r=a%10\n",
    "        list.append(r)\n",
    "        a=a//10\n",
    "    list.reverse()\n",
    "    print(list)\n",
    "a=int(input(\"enter a number\"))\n",
    "list(a)\n",
    "    \n",
    "    "
   ]
  },
  {
   "cell_type": "code",
   "execution_count": 20,
   "metadata": {},
   "outputs": [
    {
     "name": "stdout",
     "output_type": "stream",
     "text": [
      "14569"
     ]
    }
   ],
   "source": [
    "def listtonumberconversion(a):\n",
    "    for i in range(len(a)):\n",
    "        print(a[i],end=\"\")\n",
    "a=[1,4,5,6,9]\n",
    "listtonumberconversion(a)"
   ]
  },
  {
   "cell_type": "code",
   "execution_count": 21,
   "metadata": {},
   "outputs": [
    {
     "name": "stdout",
     "output_type": "stream",
     "text": [
      "46"
     ]
    }
   ],
   "source": [
    "def listtonumberconversion(a):\n",
    "    for i in range(len(a)):\n",
    "        if(a[i]%2==0):\n",
    "            print(a[i],end=\"\")\n",
    "a=[1,4,5,6,9]\n",
    "listtonumberconversion(a)"
   ]
  },
  {
   "cell_type": "code",
   "execution_count": 23,
   "metadata": {},
   "outputs": [
    {
     "name": "stdout",
     "output_type": "stream",
     "text": [
      "enter a number14569\n",
      "[4, 6]\n"
     ]
    }
   ],
   "source": [
    "def list(a):\n",
    "    list=[]\n",
    "    while(a!=0):\n",
    "        r=a%10\n",
    "        if(r%2==0):\n",
    "            list.append(r)\n",
    "        a=a//10\n",
    "    list.reverse()\n",
    "    print(list)\n",
    "a=int(input(\"enter a number\"))\n",
    "list(a)\n",
    "    "
   ]
  },
  {
   "cell_type": "code",
   "execution_count": 30,
   "metadata": {},
   "outputs": [
    {
     "name": "stdout",
     "output_type": "stream",
     "text": [
      "[1, 4, 3, 16, 5]\n"
     ]
    }
   ],
   "source": [
    "def listtonumberconversion(a):\n",
    "    list=[]\n",
    "    for i in range(len(a)):\n",
    "        if(a[i]%2!=0):\n",
    "            list.append(a[i])\n",
    "            \n",
    "        else:\n",
    "            b=a[i]**2\n",
    "            list.append(b)\n",
    "    print(list)\n",
    "a=[1,2,3,4,5]\n",
    "listtonumberconversion(a)"
   ]
  },
  {
   "cell_type": "code",
   "execution_count": 31,
   "metadata": {},
   "outputs": [
    {
     "name": "stdout",
     "output_type": "stream",
     "text": [
      "[15, 34, 31, 28, 4]\n"
     ]
    }
   ],
   "source": [
    "def sum(a):\n",
    "    list=[]\n",
    "    for i in range(len(a)):\n",
    "        if(i==0 or i==len(a)-1):\n",
    "            list.append(a[i])\n",
    "        else:\n",
    "            b=a[i]+a[i-1]\n",
    "            list.append(b)\n",
    "    print(list)\n",
    "a=[15,19,12,16,4]\n",
    "sum(a)"
   ]
  },
  {
   "cell_type": "code",
   "execution_count": null,
   "metadata": {},
   "outputs": [],
   "source": []
  }
 ],
 "metadata": {
  "kernelspec": {
   "display_name": "Python 3",
   "language": "python",
   "name": "python3"
  },
  "language_info": {
   "codemirror_mode": {
    "name": "ipython",
    "version": 3
   },
   "file_extension": ".py",
   "mimetype": "text/x-python",
   "name": "python",
   "nbconvert_exporter": "python",
   "pygments_lexer": "ipython3",
   "version": "3.7.3"
  }
 },
 "nbformat": 4,
 "nbformat_minor": 2
}
