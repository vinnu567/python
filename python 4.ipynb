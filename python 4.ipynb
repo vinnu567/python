{
 "cells": [
  {
   "cell_type": "markdown",
   "metadata": {},
   "source": [
    "## functional programming in phython\n",
    "### functions can be used to perform the specific task in the programming\n",
    "##### function in phython starts with del(keyword)\n",
    "#####syntax : def functionname(parameters)\n"
   ]
  },
  {
   "cell_type": "markdown",
   "metadata": {},
   "source": [
    "### example 1\n",
    "#####  print natural numbers\n"
   ]
  },
  {
   "cell_type": "code",
   "execution_count": 1,
   "metadata": {},
   "outputs": [
    {
     "name": "stdout",
     "output_type": "stream",
     "text": [
      "1 2 3 4 5 6 7 8 9 \n",
      "1 2 3 4 5 6 7 8 9 10 11 12 13 14 15 \n"
     ]
    }
   ],
   "source": [
    "def printNnaturalnumbers(n):\n",
    "    cnt=1\n",
    "    while(cnt<=n):\n",
    "        print(cnt,end=\" \")\n",
    "        cnt=cnt+1\n",
    "    print()\n",
    "    return\n",
    "printNnaturalnumbers(9)\n",
    "printNnaturalnumbers(15)"
   ]
  },
  {
   "cell_type": "code",
   "execution_count": 2,
   "metadata": {},
   "outputs": [
    {
     "name": "stdout",
     "output_type": "stream",
     "text": [
      "120\n",
      "3628800\n",
      "2432902008176640000\n"
     ]
    }
   ],
   "source": [
    "def findfact(n):\n",
    "    fact=1\n",
    "    while(n!=0):\n",
    "        fact=fact*n\n",
    "        n=n-1\n",
    "    return fact\n",
    "print(findfact(5))\n",
    "print(findfact(10))\n",
    "print(findfact(20))"
   ]
  },
  {
   "cell_type": "markdown",
   "metadata": {},
   "source": [
    "## example 3\n",
    "#### program to find count of palindrome between two limits"
   ]
  },
  {
   "cell_type": "code",
   "execution_count": null,
   "metadata": {},
   "outputs": [],
   "source": [
    "def countofpalindromes(n1,n2):\n",
    "    cnt=0  \n",
    "    sum= 0\n",
    "    while(n1!=n2):\n",
    "        buffer=n1\n",
    "        while(n1!=0):\n",
    "            r=n1%10\n",
    "            sum=(sum*10)+r\n",
    "            n1=n1//10\n",
    "        n1=buffer    \n",
    "    if(buffer==sum):\n",
    "        cnt=cnt+1\n",
    "        \n",
    "    n1=buffer\n",
    "    n1=n1+1\n",
    "    \n",
    "    return cnt\n",
    "print(countofpalindromes(10,30))"
   ]
  },
  {
   "cell_type": "code",
   "execution_count": null,
   "metadata": {},
   "outputs": [],
   "source": []
  },
  {
   "cell_type": "code",
   "execution_count": null,
   "metadata": {},
   "outputs": [],
   "source": []
  }
 ],
 "metadata": {
  "kernelspec": {
   "display_name": "Python 3",
   "language": "python",
   "name": "python3"
  },
  "language_info": {
   "codemirror_mode": {
    "name": "ipython",
    "version": 3
   },
   "file_extension": ".py",
   "mimetype": "text/x-python",
   "name": "python",
   "nbconvert_exporter": "python",
   "pygments_lexer": "ipython3",
   "version": "3.7.3"
  }
 },
 "nbformat": 4,
 "nbformat_minor": 2
}
